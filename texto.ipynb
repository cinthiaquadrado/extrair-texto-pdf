{
 "cells": [
  {
   "cell_type": "code",
   "execution_count": 2,
   "metadata": {},
   "outputs": [],
   "source": [
    "import PyPDF2"
   ]
  },
  {
   "cell_type": "code",
   "execution_count": 3,
   "metadata": {},
   "outputs": [],
   "source": [
    "#Carregando arquivo\n",
    "pdf = open('fisica.pdf', 'rb')\n",
    "\n",
    "#Faz a leitura do pdf\n",
    "pdfleitura = PyPDF2.PdfFileReader(pdf)\n",
    "\n",
    "#Captura a primeira página\n",
    "pagina = pdfleitura.getPage(0)"
   ]
  },
  {
   "cell_type": "code",
   "execution_count": 4,
   "metadata": {},
   "outputs": [
    {
     "name": "stdout",
     "output_type": "stream",
     "text": [
      "24/10/2022 12:56 Responde Aí\n",
      "https://app.respondeai.com.br/aprender/19201/topico/46/927/teoria/891 1/4Teoria Exercício de Fixação (5)Tempo Sobrando?  \n",
      "Exercícios de Prova (5)3. Espectros Atômicos e Átomo de Bohr\n",
      "Espectros Atômicos\n",
      "Alternar para video >>\n",
      "9min\n",
      "Espectro do Átomo de Hidrogênio\n",
      "Os átomos absorvem e emitem luz de vários comprimentos de onda. Porém, uma\n",
      "coisa que nunca havia sido bem compreendida era que essas emissões e absorções\n",
      "eram discretas. O que isso quer dizer?\n",
      "Quer dizer que apenas valores bem específicos de comprimentos de onda eram\n",
      "emitidos e absorvidos. O conjunto de comprimentos de onda emitidos ou absorvidos\n",
      "por um átomo é chamado Espectro Atômico.\n",
      "Um exemplo do espectro atômico do ferro:\n",
      "O átomo mais simples possível é o hidrogênio, que tem bem menos linhas e essas\n",
      "são mais espaçadas.\n",
      "As linhas do espectro de hidrogênio não consistem apenas do espectro visível como\n",
      "a nossa imagem do ferro: ele tem linhas na região do infravermelho e linhas na\n",
      "região do ultravioleta.\n",
      "Na verdade, o Hidrogênio só emite e absorve quatro comprimentos de onda na faixa\n",
      "da luz visível.T\n"
     ]
    }
   ],
   "source": [
    "#Extrai o texto\n",
    "texto = pagina.extractText()\n",
    "\n",
    "print(texto)"
   ]
  },
  {
   "cell_type": "code",
   "execution_count": null,
   "metadata": {},
   "outputs": [],
   "source": []
  }
 ],
 "metadata": {
  "kernelspec": {
   "display_name": "Python 3.9.13 64-bit (microsoft store)",
   "language": "python",
   "name": "python3"
  },
  "language_info": {
   "codemirror_mode": {
    "name": "ipython",
    "version": 3
   },
   "file_extension": ".py",
   "mimetype": "text/x-python",
   "name": "python",
   "nbconvert_exporter": "python",
   "pygments_lexer": "ipython3",
   "version": "3.9.13"
  },
  "orig_nbformat": 4,
  "vscode": {
   "interpreter": {
    "hash": "a6c5c6fb0e828869b8b55fd2273651c918913addc2c2da271857dd9556f18623"
   }
  }
 },
 "nbformat": 4,
 "nbformat_minor": 2
}
